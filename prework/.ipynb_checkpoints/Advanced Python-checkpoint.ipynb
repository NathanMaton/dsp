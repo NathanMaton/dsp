{
 "cells": [
  {
   "cell_type": "code",
   "execution_count": 5,
   "metadata": {
    "collapsed": true
   },
   "outputs": [],
   "source": [
    "import timeit\n",
    "import datetime\n",
    "import math\n",
    "import csv\n",
    "import re\n",
    "import pandas\n",
    "from collections import defaultdict\n",
    "import pprint as pp"
   ]
  },
  {
   "cell_type": "code",
   "execution_count": 6,
   "metadata": {
    "collapsed": false
   },
   "outputs": [
    {
     "name": "stdout",
     "output_type": "stream",
     "text": [
      "defaultdict(<class 'int'>, {'eggs': 1, 'spam': 6})\n"
     ]
    }
   ],
   "source": [
    "#extra questions from python quick test\n",
    "\n",
    "#extra 1\n",
    "foodlist = \"spam spam spam spam eggs spam spam\".split()\n",
    "fcount = defaultdict(int)\n",
    "#fcount = {}\n",
    "for f in foodlist:\n",
    "    fcount[f]+=1\n",
    "print (fcount)"
   ]
  },
  {
   "cell_type": "code",
   "execution_count": 9,
   "metadata": {
    "collapsed": false
   },
   "outputs": [
    {
     "name": "stdout",
     "output_type": "stream",
     "text": [
      "defaultdict(<class 'int'>,\n",
      "            {'eggs': 1,\n",
      "             'spam': 6})\n"
     ]
    }
   ],
   "source": [
    "#extra #2\n",
    "pp.pprint(fcount, width=3)"
   ]
  },
  {
   "cell_type": "code",
   "execution_count": 10,
   "metadata": {
    "collapsed": true
   },
   "outputs": [],
   "source": [
    "a = {'first':123,'second':456, 'third':{1:1,2:2},'fourth':{1:1,2:2},'fifth':555}"
   ]
  },
  {
   "cell_type": "code",
   "execution_count": 11,
   "metadata": {
    "collapsed": false
   },
   "outputs": [
    {
     "name": "stdout",
     "output_type": "stream",
     "text": [
      "{'fifth': 555, 'third': {1: 1, 2: 2}, 'fourth': {1: 1, 2: 2}, 'first': 123, 'second': 456}\n"
     ]
    }
   ],
   "source": [
    "print (a)"
   ]
  },
  {
   "cell_type": "code",
   "execution_count": 12,
   "metadata": {
    "collapsed": false
   },
   "outputs": [
    {
     "name": "stdout",
     "output_type": "stream",
     "text": [
      "{'fifth': 555,\n",
      " 'first': 123,\n",
      " 'fourth': {1: 1, 2: 2},\n",
      " 'second': 456,\n",
      " 'third': {1: 1, 2: 2}}\n"
     ]
    }
   ],
   "source": [
    "pp.pprint(a)"
   ]
  },
  {
   "cell_type": "code",
   "execution_count": 13,
   "metadata": {
    "collapsed": false
   },
   "outputs": [
    {
     "name": "stdout",
     "output_type": "stream",
     "text": [
      "{'fifth': 555,\n",
      " 'first': 123,\n",
      " 'fourth': {1: 1,\n",
      "            2: 2},\n",
      " 'second': 456,\n",
      " 'third': {1: 1,\n",
      "           2: 2}}\n"
     ]
    }
   ],
   "source": [
    "pp.pprint(a,width=2)"
   ]
  },
  {
   "cell_type": "code",
   "execution_count": 6,
   "metadata": {
    "collapsed": false
   },
   "outputs": [],
   "source": [
    "#1 \n",
    "#import python/faculty.csv, read file then return dictionary with degrees as keys and their frequencies as values.\n",
    "#use reg expressions to consider PhD and Ph.D. the same thing.\n",
    "\n",
    "def read_data(filename):\n",
    "    with open(filename) as csv_file:\n",
    "        csv_reader = csv.reader(csv_file, delimiter=',')\n",
    "        res = []\n",
    "        for row in csv_reader:\n",
    "            res.append(row)\n",
    "        return res\n",
    "\n",
    "#import data\n",
    "faculty = read_data('python/faculty.csv')\n",
    "degrees = []\n",
    "for r in faculty[1:]:\n",
    "    degrees.append(r[1])\n",
    "\n"
   ]
  },
  {
   "cell_type": "code",
   "execution_count": 29,
   "metadata": {
    "collapsed": false
   },
   "outputs": [],
   "source": [
    "degrees_str=\"\".join(degrees)"
   ]
  },
  {
   "cell_type": "code",
   "execution_count": 74,
   "metadata": {
    "collapsed": false
   },
   "outputs": [
    {
     "data": {
      "text/plain": [
       "'Sc.D.Ph.D. PhD Ph.D. Ph.D. Ph.D. Ph.D PhD Ph.D Ph.D Ph.D. PhD Ph.D. MD MPH Ph.D B.S.Ed. M.S. Ph.D. Ph.D. Ph.D. Ph.D JD MA MPH MS PhD Ph.D. Sc.D. Sc.D. PhD ScD Ph.D. PhD Ph.D. Sc.D. PhD0 Ph.D. Ph.D. Ph.D. ScD PhD Ph.D. PhD Ph.D.'"
      ]
     },
     "execution_count": 74,
     "metadata": {},
     "output_type": "execute_result"
    }
   ],
   "source": [
    "degrees_str[1:]"
   ]
  },
  {
   "cell_type": "code",
   "execution_count": 86,
   "metadata": {
    "collapsed": false
   },
   "outputs": [],
   "source": [
    "BSEd_c = len(re.findall(r'B.S.Ed.',degrees_str[1:]))\n",
    "JD_c = len(re.findall(r'JD',degrees_str[1:]))\n",
    "MD_c = len(re.findall(r'MD',degrees_str[1:]))\n",
    "MPH_c = len(re.findall(r'MPH',degrees_str[1:]))\n",
    "MS_c = len(re.findall(r'M[S\\.]S?.?',degrees_str[1:]))\n",
    "MA_c = len(re.findall(r'MA',degrees_str[1:]))\n",
    "PhD_c = len(re.findall(r'Ph[D\\.]D?\\.?',degrees_str[1:]))\n",
    "ScD_c = len(re.findall(r'Sc[D\\.][D\\.]?.',degrees_str[1:]))\n"
   ]
  },
  {
   "cell_type": "code",
   "execution_count": 90,
   "metadata": {
    "collapsed": false
   },
   "outputs": [
    {
     "data": {
      "text/plain": [
       "31"
      ]
     },
     "execution_count": 90,
     "metadata": {},
     "output_type": "execute_result"
    }
   ],
   "source": [
    "PhD_c"
   ]
  },
  {
   "cell_type": "code",
   "execution_count": 93,
   "metadata": {
    "collapsed": false
   },
   "outputs": [],
   "source": [
    "d1 = {'a':1,'b':2}"
   ]
  },
  {
   "cell_type": "code",
   "execution_count": 98,
   "metadata": {
    "collapsed": false
   },
   "outputs": [
    {
     "data": {
      "text/plain": [
       "{'a': 1, 'b': 2}"
      ]
     },
     "execution_count": 98,
     "metadata": {},
     "output_type": "execute_result"
    }
   ],
   "source": [
    "d1"
   ]
  },
  {
   "cell_type": "code",
   "execution_count": 97,
   "metadata": {
    "collapsed": false
   },
   "outputs": [
    {
     "name": "stdout",
     "output_type": "stream",
     "text": [
      "hi\n"
     ]
    }
   ],
   "source": [
    "print('hi')"
   ]
  },
  {
   "cell_type": "raw",
   "metadata": {},
   "source": [
    "d2 = {'a':1,'b':2}"
   ]
  },
  {
   "cell_type": "code",
   "execution_count": 99,
   "metadata": {
    "collapsed": false
   },
   "outputs": [
    {
     "ename": "NameError",
     "evalue": "name 'd2' is not defined",
     "output_type": "error",
     "traceback": [
      "\u001b[0;31m---------------------------------------------------------------------------\u001b[0m",
      "\u001b[0;31mNameError\u001b[0m                                 Traceback (most recent call last)",
      "\u001b[0;32m<ipython-input-99-710dff93611b>\u001b[0m in \u001b[0;36m<module>\u001b[0;34m()\u001b[0m\n\u001b[0;32m----> 1\u001b[0;31m \u001b[0md2\u001b[0m\u001b[0;34m\u001b[0m\u001b[0m\n\u001b[0m",
      "\u001b[0;31mNameError\u001b[0m: name 'd2' is not defined"
     ]
    }
   ],
   "source": [
    "d2"
   ]
  },
  {
   "cell_type": "code",
   "execution_count": 110,
   "metadata": {
    "collapsed": true
   },
   "outputs": [],
   "source": [
    "res = {\n",
    "    'BSEd':BSEd_c,\n",
    "    'JD':JD_c,\n",
    "    'ScD':ScD_c,\n",
    "    'MD':MD_c,\n",
    "    'MPH':MPH_c,\n",
    "    'MS':MS_c,\n",
    "    'MA':MA_c,\n",
    "    'PhD':PhD_c,\n",
    "    '0':1\n",
    "    \n",
    "}"
   ]
  },
  {
   "cell_type": "code",
   "execution_count": 108,
   "metadata": {
    "collapsed": false
   },
   "outputs": [
    {
     "name": "stdout",
     "output_type": "stream",
     "text": [
      "hi\n"
     ]
    }
   ],
   "source": [
    "print ('hi')"
   ]
  },
  {
   "cell_type": "code",
   "execution_count": 1,
   "metadata": {
    "collapsed": false
   },
   "outputs": [
    {
     "ename": "NameError",
     "evalue": "name 'res' is not defined",
     "output_type": "error",
     "traceback": [
      "\u001b[0;31m---------------------------------------------------------------------------\u001b[0m",
      "\u001b[0;31mNameError\u001b[0m                                 Traceback (most recent call last)",
      "\u001b[0;32m<ipython-input-1-41a0db25bac4>\u001b[0m in \u001b[0;36m<module>\u001b[0;34m()\u001b[0m\n\u001b[0;32m----> 1\u001b[0;31m \u001b[0mres\u001b[0m\u001b[0;34m\u001b[0m\u001b[0m\n\u001b[0m",
      "\u001b[0;31mNameError\u001b[0m: name 'res' is not defined"
     ]
    }
   ],
   "source": [
    "res"
   ]
  },
  {
   "cell_type": "code",
   "execution_count": 47,
   "metadata": {
    "collapsed": false
   },
   "outputs": [],
   "source": [
    "#2 create dictionary from faculty.csv that reads in standardized titles and returns a dictionary with frequencies as values.\n",
    "\n",
    "def read_data(filename):\n",
    "    with open(filename) as csv_file:\n",
    "        csv_reader = csv.reader(csv_file, delimiter=',')\n",
    "        res = []\n",
    "        for row in csv_reader:\n",
    "            res.append(row)\n",
    "        return res\n",
    "\n",
    "#import data\n",
    "faculty = read_data('python/faculty.csv')\n",
    "\n",
    "titles = []\n",
    "for r in faculty[1:]:\n",
    "    titles.append(r[2])\n",
    "\n",
    "titles_str=\"\".join(titles)\n",
    "Associate_c = len(re.findall(r'Associate',titles_str))\n",
    "\n",
    "#Professor is in all titles, so use list instead of str\n",
    "Professor_c = 0\n",
    "for i in titles:\n",
    "    if re.findall(r'^Professor',i):\n",
    "        Professor_c += 1\n",
    "#RE note: ^ outside of a [] finds the phrase at beginning of line\n",
    "\n",
    "Assistant_c = len(re.findall(r'Assistant',titles_str))\n",
    "res = {\n",
    "    'Associate Professor of Biostatistics':Associate_c,\n",
    "    'Professor of Biostatistics':Professor_c,\n",
    "    'Assistant Professor of Biostatistics':Assistant_c\n",
    "}\n",
    "return res"
   ]
  },
  {
   "cell_type": "code",
   "execution_count": 53,
   "metadata": {
    "collapsed": false
   },
   "outputs": [
    {
     "data": {
      "text/plain": [
       "['bellamys@mail.med.upenn.edu',\n",
       " 'warren@upenn.edu',\n",
       " 'bryanma@upenn.edu',\n",
       " 'jinboche@upenn.edu',\n",
       " 'sellenbe@upenn.edu',\n",
       " 'jellenbe@mail.med.upenn.edu',\n",
       " 'ruifeng@upenn.edu',\n",
       " 'bcfrench@mail.med.upenn.edu',\n",
       " 'pgimotty@upenn.edu',\n",
       " 'wguo@mail.med.upenn.edu',\n",
       " 'hsu9@mail.med.upenn.edu',\n",
       " 'rhubb@mail.med.upenn.edu',\n",
       " 'whwang@mail.med.upenn.edu',\n",
       " 'mjoffe@mail.med.upenn.edu',\n",
       " 'jrlandis@mail.med.upenn.edu',\n",
       " 'liy3@email.chop.edu',\n",
       " 'mingyao@mail.med.upenn.edu',\n",
       " 'hongzhe@upenn.edu',\n",
       " 'rlocalio@upenn.edu',\n",
       " 'nanditam@mail.med.upenn.edu',\n",
       " 'knashawn@mail.med.upenn.edu',\n",
       " 'propert@mail.med.upenn.edu',\n",
       " 'mputt@mail.med.upenn.edu',\n",
       " 'sratclif@upenn.edu',\n",
       " 'michross@upenn.edu',\n",
       " 'jaroy@mail.med.upenn.edu',\n",
       " 'msammel@cceb.med.upenn.edu',\n",
       " 'shawp@upenn.edu',\n",
       " 'rshi@mail.med.upenn.edu',\n",
       " 'hshou@mail.med.upenn.edu',\n",
       " 'jshults@mail.med.upenn.edu',\n",
       " 'alisaste@mail.med.upenn.edu',\n",
       " 'atroxel@mail.med.upenn.edu',\n",
       " 'rxiao@mail.med.upenn.edu',\n",
       " 'sxie@mail.med.upenn.edu',\n",
       " 'dxie@upenn.edu',\n",
       " 'weiyang@mail.med.upenn.edu']"
      ]
     },
     "execution_count": 53,
     "metadata": {},
     "output_type": "execute_result"
    }
   ],
   "source": [
    "#3 read faculty.csv, return list of emails in file\n",
    "\n",
    "import csv\n",
    "import re\n",
    "\n",
    "def read_data(filename):\n",
    "    with open(filename) as csv_file:\n",
    "        csv_reader = csv.reader(csv_file, delimiter=',')\n",
    "        res = []\n",
    "        for row in csv_reader:\n",
    "            res.append(row)\n",
    "        return res\n",
    "\n",
    "#import data\n",
    "faculty = read_data('python/faculty.csv')\n",
    "\n",
    "emails = []\n",
    "for r in faculty[1:]:\n",
    "    emails.append(r[3])\n",
    "emails"
   ]
  },
  {
   "cell_type": "code",
   "execution_count": 64,
   "metadata": {
    "collapsed": false
   },
   "outputs": [
    {
     "data": {
      "text/plain": [
       "{'cceb.med.upenn.edu', 'email.chop.edu', 'mail.med.upenn.edu', 'upenn.edu'}"
      ]
     },
     "execution_count": 64,
     "metadata": {},
     "output_type": "execute_result"
    }
   ],
   "source": [
    "#4 given a list of emails, return unique domains\n",
    "\n",
    "import csv\n",
    "import re\n",
    "\n",
    "def read_data(filename):\n",
    "    with open(filename) as csv_file:\n",
    "        csv_reader = csv.reader(csv_file, delimiter=',')\n",
    "        res = []\n",
    "        for row in csv_reader:\n",
    "            res.append(row)\n",
    "        return res\n",
    "\n",
    "#import data\n",
    "faculty = read_data('python/faculty.csv')\n",
    "\n",
    "emails = []\n",
    "for r in faculty[1:]:\n",
    "    emails.append(r[3])\n",
    "\n",
    "email_domains =[]\n",
    "emails[0][emails[0].find('@')+1:]\n",
    "for i in emails:\n",
    "    email_domains.append(i[i.find('@')+1:])\n",
    "set(email_domains)"
   ]
  },
  {
   "cell_type": "code",
   "execution_count": 65,
   "metadata": {
    "collapsed": true
   },
   "outputs": [],
   "source": [
    "#5 write list of emails to csv file\n",
    "#list_of_emails\n",
    "#bellamys@mail.med.upenn.edu\n",
    "#warren@upenn.edu\n",
    "#bryanma@upenn.edu"
   ]
  },
  {
   "cell_type": "code",
   "execution_count": 70,
   "metadata": {
    "collapsed": false
   },
   "outputs": [],
   "source": [
    "import csv\n",
    "\n",
    "with open('emails2.csv', mode='w') as csv_file:\n",
    "    fieldnames = ['list_of_emails']\n",
    "    writer = csv.DictWriter(csv_file, fieldnames=fieldnames)\n",
    "\n",
    "    writer.writeheader()\n",
    "    writer.writerow({'list_of_emails': 'John Smith'})\n",
    "    writer.writerow({'list_of_emails': 'Erica Meyers'})"
   ]
  },
  {
   "cell_type": "code",
   "execution_count": 75,
   "metadata": {
    "collapsed": false
   },
   "outputs": [],
   "source": [
    "with open('emails.csv', mode='w') as emails:\n",
    "    writer = csv.writer(emails, delimiter=',', quotechar='\"', quoting=csv.QUOTE_MINIMAL)\n",
    "    writer.writerow(['list_of_emails'])\n",
    "    writer.writerow(['John Smith'])\n",
    "    writer.writerow(['JD2'])"
   ]
  },
  {
   "cell_type": "code",
   "execution_count": 125,
   "metadata": {
    "collapsed": false
   },
   "outputs": [],
   "source": [
    "from collections import defaultdict\n",
    "names = []\n",
    "for r in faculty[1:]:\n",
    "    names.append(r[0])\n",
    "\n",
    "split_names_list = []\n",
    "for i in names:\n",
    "    split_names_list.append(i.split(' '))\n",
    "\n",
    "res = defaultdict(list)\n",
    "for i,r in enumerate(faculty[1:]):\n",
    "    res[split_names_list[i]].append(r)\n",
    "\n"
   ]
  },
  {
   "cell_type": "code",
   "execution_count": null,
   "metadata": {
    "collapsed": false
   },
   "outputs": [],
   "source": []
  },
  {
   "cell_type": "code",
   "execution_count": 120,
   "metadata": {
    "collapsed": false
   },
   "outputs": [
    {
     "data": {
      "text/plain": [
       "list"
      ]
     },
     "execution_count": 120,
     "metadata": {},
     "output_type": "execute_result"
    }
   ],
   "source": [
    "type(split_names[0])"
   ]
  },
  {
   "cell_type": "code",
   "execution_count": 96,
   "metadata": {
    "collapsed": false
   },
   "outputs": [
    {
     "data": {
      "text/plain": [
       "{}"
      ]
     },
     "execution_count": 96,
     "metadata": {},
     "output_type": "execute_result"
    }
   ],
   "source": [
    "res"
   ]
  },
  {
   "cell_type": "code",
   "execution_count": 106,
   "metadata": {
    "collapsed": true
   },
   "outputs": [],
   "source": [
    "#6 read in faculty csv, return dict with keys as last name, values are rows\n",
    "import csv\n",
    "import re\n",
    "from collections import defaultdict\n",
    "\n",
    "def read_data(filename):\n",
    "    with open(filename) as csv_file:\n",
    "        csv_reader = csv.reader(csv_file, delimiter=',')\n",
    "        res = []\n",
    "        for row in csv_reader:\n",
    "            res.append(row)\n",
    "        return res\n",
    "\n",
    "#import data\n",
    "faculty = read_data('python/faculty.csv')\n",
    "\n",
    "\n",
    "def get_dict():\n",
    "    names = []\n",
    "    for r in faculty[1:]:\n",
    "        names.append(r[0])\n",
    "\n",
    "    split_names = []\n",
    "    for i in names:\n",
    "        split_names.append(i.split(' '))\n",
    "    \n",
    "    res = defaultdict(list)\n",
    "    for i,r in enumerate(faculty[1:]):\n",
    "        res[split_names[i][-1]].append(r[1:])\n",
    "\n",
    "    return res"
   ]
  },
  {
   "cell_type": "code",
   "execution_count": 107,
   "metadata": {
    "collapsed": false
   },
   "outputs": [],
   "source": [
    "ans = get_dict()"
   ]
  },
  {
   "cell_type": "code",
   "execution_count": 142,
   "metadata": {
    "collapsed": false
   },
   "outputs": [
    {
     "data": {
      "text/plain": [
       "[[' Ph.D.', 'Assistant Professor of Biostatistics', 'liy3@email.chop.edu'],\n",
       " [' Ph.D.',\n",
       "  'Associate Professor of Biostatistics',\n",
       "  'mingyao@mail.med.upenn.edu'],\n",
       " [' Ph.D', 'Professor of Biostatistics', 'hongzhe@upenn.edu']]"
      ]
     },
     "execution_count": 142,
     "metadata": {},
     "output_type": "execute_result"
    }
   ],
   "source": [
    "ans['Li']"
   ]
  },
  {
   "cell_type": "code",
   "execution_count": 67,
   "metadata": {
    "collapsed": true
   },
   "outputs": [],
   "source": [
    "#7 read in faculty csv, return dict with keys as tuples of names (e.g. 'Chris', 'C.', 'Anderson'), values are rows"
   ]
  },
  {
   "cell_type": "code",
   "execution_count": null,
   "metadata": {
    "collapsed": true
   },
   "outputs": [],
   "source": [
    "from collections import defaultdict\n",
    "names = []\n",
    "for r in faculty[1:]:\n",
    "    names.append(r[0])\n",
    "\n",
    "split_names_list = []\n",
    "for i in names:\n",
    "    split_names_list.append(i.split(' '))\n",
    "\n",
    "split_names_tuple = []\n",
    "for i in split_names_list:\n",
    "    split_names_tuple.append(tuple(i))\n",
    "\n",
    "res = defaultdict(list)\n",
    "for i,r in enumerate(faculty[1:]):\n",
    "    res[split_names_tuple[i]].append(r)"
   ]
  },
  {
   "cell_type": "code",
   "execution_count": 147,
   "metadata": {
    "collapsed": true
   },
   "outputs": [],
   "source": [
    "import csv\n",
    "import re\n",
    "from collections import defaultdict\n",
    "\n",
    "def read_data(filename):\n",
    "    with open(filename) as csv_file:\n",
    "        csv_reader = csv.reader(csv_file, delimiter=',')\n",
    "        res = []\n",
    "        for row in csv_reader:\n",
    "            res.append(row)\n",
    "        return res\n",
    "\n",
    "#import data\n",
    "faculty = read_data('python/faculty.csv')\n",
    "\n",
    "\n",
    "def get_dict():\n",
    "    names = []\n",
    "    for r in faculty[1:]:\n",
    "        names.append(r[0])\n",
    "\n",
    "    split_names_list = []\n",
    "    for i in names:\n",
    "        split_names_list.append(i.split(' '))\n",
    "        \n",
    "    split_names_tuple = []\n",
    "    for i in split_names_list:\n",
    "        split_names_tuple.append(tuple(i))\n",
    "    \n",
    "    res = {}\n",
    "    for i,r in enumerate(faculty[1:]):\n",
    "        res[split_names_tuple[i]]=r[1:]\n",
    "\n",
    "    return res"
   ]
  },
  {
   "cell_type": "code",
   "execution_count": 148,
   "metadata": {
    "collapsed": false
   },
   "outputs": [],
   "source": [
    "res = get_dict()"
   ]
  },
  {
   "cell_type": "code",
   "execution_count": 149,
   "metadata": {
    "collapsed": false
   },
   "outputs": [
    {
     "data": {
      "text/plain": [
       "[' PhD', 'Associate Professor of Biostatistics', 'bcfrench@mail.med.upenn.edu']"
      ]
     },
     "execution_count": 149,
     "metadata": {},
     "output_type": "execute_result"
    }
   ],
   "source": [
    "res[('Benjamin', 'C.', 'French')]"
   ]
  },
  {
   "cell_type": "code",
   "execution_count": 152,
   "metadata": {
    "collapsed": false
   },
   "outputs": [
    {
     "data": {
      "text/plain": [
       "[' PhD', 'Assistant Professor of Biostatistics', 'dxie@upenn.edu']"
      ]
     },
     "execution_count": 152,
     "metadata": {},
     "output_type": "execute_result"
    }
   ],
   "source": [
    "res[('Dawei', 'Xie')]"
   ]
  },
  {
   "cell_type": "code",
   "execution_count": 151,
   "metadata": {
    "collapsed": false
   },
   "outputs": [
    {
     "data": {
      "text/plain": [
       "[' Ph.D', 'Professor of Biostatistics', 'hongzhe@upenn.edu']"
      ]
     },
     "execution_count": 151,
     "metadata": {},
     "output_type": "execute_result"
    }
   ],
   "source": [
    "res[('Hongzhe','Li')]"
   ]
  },
  {
   "cell_type": "code",
   "execution_count": null,
   "metadata": {
    "collapsed": true
   },
   "outputs": [],
   "source": []
  }
 ],
 "metadata": {
  "anaconda-cloud": {},
  "kernelspec": {
   "display_name": "Python [conda env:py3]",
   "language": "python",
   "name": "conda-env-py3-py"
  },
  "language_info": {
   "codemirror_mode": {
    "name": "ipython",
    "version": 3
   },
   "file_extension": ".py",
   "mimetype": "text/x-python",
   "name": "python",
   "nbconvert_exporter": "python",
   "pygments_lexer": "ipython3",
   "version": "3.5.2"
  }
 },
 "nbformat": 4,
 "nbformat_minor": 1
}
