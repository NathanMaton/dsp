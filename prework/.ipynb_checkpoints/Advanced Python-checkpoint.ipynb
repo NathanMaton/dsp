{
 "cells": [
  {
   "cell_type": "code",
   "execution_count": 16,
   "metadata": {
    "collapsed": true
   },
   "outputs": [],
   "source": [
    "import timeit\n",
    "import datetime\n",
    "import math\n",
    "import csv\n",
    "import re\n",
    "import pandas"
   ]
  },
  {
   "cell_type": "code",
   "execution_count": 17,
   "metadata": {
    "collapsed": false
   },
   "outputs": [],
   "source": [
    "#1 \n",
    "#import python/faculty.csv, read file then return dictionary with degrees as keys and their frequencies as values.\n",
    "#use reg expressions to consider PhD and Ph.D. the same thing.\n",
    "\n",
    "def read_data(filename):\n",
    "    with open(filename) as csv_file:\n",
    "        csv_reader = csv.reader(csv_file, delimiter=',')\n",
    "        res = []\n",
    "        for row in csv_reader:\n",
    "            res.append(row)\n",
    "        return res\n",
    "\n",
    "#import data\n",
    "faculty = read_data('python/faculty.csv')\n",
    "degrees = []\n",
    "for r in faculty[1:]:\n",
    "    degrees.append(r[1])\n",
    "\n"
   ]
  },
  {
   "cell_type": "code",
   "execution_count": 29,
   "metadata": {
    "collapsed": false
   },
   "outputs": [],
   "source": [
    "degrees_str=\"\".join(degrees)"
   ]
  },
  {
   "cell_type": "code",
   "execution_count": 74,
   "metadata": {
    "collapsed": false
   },
   "outputs": [
    {
     "data": {
      "text/plain": [
       "'Sc.D.Ph.D. PhD Ph.D. Ph.D. Ph.D. Ph.D PhD Ph.D Ph.D Ph.D. PhD Ph.D. MD MPH Ph.D B.S.Ed. M.S. Ph.D. Ph.D. Ph.D. Ph.D JD MA MPH MS PhD Ph.D. Sc.D. Sc.D. PhD ScD Ph.D. PhD Ph.D. Sc.D. PhD0 Ph.D. Ph.D. Ph.D. ScD PhD Ph.D. PhD Ph.D.'"
      ]
     },
     "execution_count": 74,
     "metadata": {},
     "output_type": "execute_result"
    }
   ],
   "source": [
    "degrees_str[1:]"
   ]
  },
  {
   "cell_type": "code",
   "execution_count": 86,
   "metadata": {
    "collapsed": false
   },
   "outputs": [],
   "source": [
    "BSEd_c = len(re.findall(r'B.S.Ed.',degrees_str[1:]))\n",
    "JD_c = len(re.findall(r'JD',degrees_str[1:]))\n",
    "MD_c = len(re.findall(r'MD',degrees_str[1:]))\n",
    "MPH_c = len(re.findall(r'MPH',degrees_str[1:]))\n",
    "MS_c = len(re.findall(r'M[S\\.]S?.?',degrees_str[1:]))\n",
    "MA_c = len(re.findall(r'MA',degrees_str[1:]))\n",
    "PhD_c = len(re.findall(r'Ph[D\\.]D?\\.?',degrees_str[1:]))\n",
    "ScD_c = len(re.findall(r'Sc[D\\.][D\\.]?.',degrees_str[1:]))\n"
   ]
  },
  {
   "cell_type": "code",
   "execution_count": 90,
   "metadata": {
    "collapsed": false
   },
   "outputs": [
    {
     "data": {
      "text/plain": [
       "31"
      ]
     },
     "execution_count": 90,
     "metadata": {},
     "output_type": "execute_result"
    }
   ],
   "source": [
    "PhD_c"
   ]
  },
  {
   "cell_type": "code",
   "execution_count": 93,
   "metadata": {
    "collapsed": false
   },
   "outputs": [],
   "source": [
    "d1 = {'a':1,'b':2}"
   ]
  },
  {
   "cell_type": "code",
   "execution_count": 98,
   "metadata": {
    "collapsed": false
   },
   "outputs": [
    {
     "data": {
      "text/plain": [
       "{'a': 1, 'b': 2}"
      ]
     },
     "execution_count": 98,
     "metadata": {},
     "output_type": "execute_result"
    }
   ],
   "source": [
    "d1"
   ]
  },
  {
   "cell_type": "code",
   "execution_count": 97,
   "metadata": {
    "collapsed": false
   },
   "outputs": [
    {
     "name": "stdout",
     "output_type": "stream",
     "text": [
      "hi\n"
     ]
    }
   ],
   "source": [
    "print('hi')"
   ]
  },
  {
   "cell_type": "raw",
   "metadata": {},
   "source": [
    "d2 = {'a':1,'b':2}"
   ]
  },
  {
   "cell_type": "code",
   "execution_count": 99,
   "metadata": {
    "collapsed": false
   },
   "outputs": [
    {
     "ename": "NameError",
     "evalue": "name 'd2' is not defined",
     "output_type": "error",
     "traceback": [
      "\u001b[0;31m---------------------------------------------------------------------------\u001b[0m",
      "\u001b[0;31mNameError\u001b[0m                                 Traceback (most recent call last)",
      "\u001b[0;32m<ipython-input-99-710dff93611b>\u001b[0m in \u001b[0;36m<module>\u001b[0;34m()\u001b[0m\n\u001b[0;32m----> 1\u001b[0;31m \u001b[0md2\u001b[0m\u001b[0;34m\u001b[0m\u001b[0m\n\u001b[0m",
      "\u001b[0;31mNameError\u001b[0m: name 'd2' is not defined"
     ]
    }
   ],
   "source": [
    "d2"
   ]
  },
  {
   "cell_type": "code",
   "execution_count": 110,
   "metadata": {
    "collapsed": true
   },
   "outputs": [],
   "source": [
    "res = {\n",
    "    'BSEd':BSEd_c,\n",
    "    'JD':JD_c,\n",
    "    'ScD':ScD_c,\n",
    "    'MD':MD_c,\n",
    "    'MPH':MPH_c,\n",
    "    'MS':MS_c,\n",
    "    'MA':MA_c,\n",
    "    'PhD':PhD_c,\n",
    "    '0':1\n",
    "    \n",
    "}"
   ]
  },
  {
   "cell_type": "code",
   "execution_count": 108,
   "metadata": {
    "collapsed": false
   },
   "outputs": [
    {
     "name": "stdout",
     "output_type": "stream",
     "text": [
      "hi\n"
     ]
    }
   ],
   "source": [
    "print ('hi')"
   ]
  },
  {
   "cell_type": "code",
   "execution_count": 109,
   "metadata": {
    "collapsed": false
   },
   "outputs": [
    {
     "data": {
      "text/plain": [
       "{'BSEd': 1, 'JD': 1, 'MA': 1, 'MD': 1, 'MPH': 2, 'MS': 2, 'PhD': 31, 'ScD': 6}"
      ]
     },
     "execution_count": 109,
     "metadata": {},
     "output_type": "execute_result"
    }
   ],
   "source": [
    "res"
   ]
  }
 ],
 "metadata": {
  "anaconda-cloud": {},
  "kernelspec": {
   "display_name": "Python [conda env:py3]",
   "language": "python",
   "name": "conda-env-py3-py"
  },
  "language_info": {
   "codemirror_mode": {
    "name": "ipython",
    "version": 3
   },
   "file_extension": ".py",
   "mimetype": "text/x-python",
   "name": "python",
   "nbconvert_exporter": "python",
   "pygments_lexer": "ipython3",
   "version": "3.5.2"
  }
 },
 "nbformat": 4,
 "nbformat_minor": 1
}
