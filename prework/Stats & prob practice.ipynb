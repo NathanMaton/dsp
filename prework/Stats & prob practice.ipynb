{
 "cells": [
  {
   "cell_type": "markdown",
   "metadata": {},
   "source": [
    "From reading think stats seems good to learn more deeply differneces between  \n",
    "PMF = discrete non-cumulative way to look at probabilities.    \n",
    "CDF = continuous cumulative way.  \n",
    "PDF = continuous discrete way, also derrivative of CDF.\n"
   ]
  },
  {
   "cell_type": "code",
   "execution_count": 51,
   "metadata": {
    "collapsed": true
   },
   "outputs": [],
   "source": [
    "import numpy as np\n",
    "import math\n",
    "import pandas as pd\n",
    "import matplotlib.pyplot as plt\n",
    "import seaborn as sns\n",
    "from IPython.display import display, Math, Latex\n"
   ]
  },
  {
   "cell_type": "markdown",
   "metadata": {
    "collapsed": true
   },
   "source": [
    "## Harvard stats class problem set 1"
   ]
  },
  {
   "cell_type": "markdown",
   "metadata": {},
   "source": [
    "Problem 1: (a) How many ways are there to split a dozen people into 3 teams, where one team has 2 people, and the other two teams have 5 people each?\n"
   ]
  },
  {
   "cell_type": "code",
   "execution_count": 26,
   "metadata": {
    "collapsed": true
   },
   "outputs": [],
   "source": [
    "#create functions for permutations & combinations\n",
    "\n",
    "def perm(n,k):\n",
    "    return math.factorial(n)/math.factorial(n-k)\n",
    "\n",
    "def comb(n,k):\n",
    "    return math.factorial(n)/(math.factorial(k)*math.factorial(n-k))"
   ]
  },
  {
   "cell_type": "code",
   "execution_count": 27,
   "metadata": {
    "collapsed": false
   },
   "outputs": [
    {
     "data": {
      "text/plain": [
       "8316.0"
      ]
     },
     "execution_count": 27,
     "metadata": {},
     "output_type": "execute_result"
    }
   ],
   "source": [
    "#First grab all pairs of 2 from 12, then grab a set of 5 people from 10, the last 5 are required. \n",
    "#To finish check how you're counting. This overcounts by 2 because neither team is designated first.\n",
    "comb(12,2)*comb(10,5)/2"
   ]
  },
  {
   "cell_type": "markdown",
   "metadata": {},
   "source": [
    "Problem 1b: (b) How many ways are there to split a dozen people into 3 teams, where each team has 4 people?\n"
   ]
  },
  {
   "cell_type": "code",
   "execution_count": 28,
   "metadata": {
    "collapsed": true
   },
   "outputs": [],
   "source": [
    "#Permutations problem with 12 people, 3 evenly divided groups (of 4). So if you ask them all to line up it'd be 12!\n",
    "#Then order doesn't matter within groups so you can divide by 4!**3, then the order of groups themselves doesn't \n",
    "#Matter so divide again by 3."
   ]
  },
  {
   "cell_type": "code",
   "execution_count": 29,
   "metadata": {
    "collapsed": false
   },
   "outputs": [
    {
     "data": {
      "text/plain": [
       "5775.0"
      ]
     },
     "execution_count": 29,
     "metadata": {},
     "output_type": "execute_result"
    }
   ],
   "source": [
    "math.factorial(12)/((math.factorial(4)**3)*math.factorial(3))"
   ]
  },
  {
   "cell_type": "markdown",
   "metadata": {},
   "source": [
    "Problem 2: Story proof"
   ]
  },
  {
   "cell_type": "code",
   "execution_count": 30,
   "metadata": {
    "collapsed": false
   },
   "outputs": [
    {
     "data": {
      "text/plain": [
       "'Consider  people, with one of them pre-designated as the “president\" of the group. \\nThe right-hand side is the number of ways to choose  out of these  people, with order not mattering.\\nThe left-hand side counts the same thing in a different way, by considering two disjoint cases: \\nthe president is not in the chosen subset (first term) or is in the chosen subset (second term).'"
      ]
     },
     "execution_count": 30,
     "metadata": {},
     "output_type": "execute_result"
    }
   ],
   "source": [
    "#Ans B\n",
    "'''Consider  people, with one of them pre-designated as the “president\" of the group. \n",
    "The right-hand side is the number of ways to choose  out of these  people, with order not mattering.\n",
    "The left-hand side counts the same thing in a different way, by considering two disjoint cases: \n",
    "the president is not in the chosen subset (first term) or is in the chosen subset (second term).'''"
   ]
  },
  {
   "cell_type": "markdown",
   "metadata": {},
   "source": [
    "Problem 3a: Probability of 21 vs. 22 for sum of 4 dice"
   ]
  },
  {
   "cell_type": "code",
   "execution_count": 31,
   "metadata": {
    "collapsed": true
   },
   "outputs": [],
   "source": [
    "#probability is equal for any side of the dice so it is about the number of sets for any combination.\n",
    "#E.g. 12 only is gotten through 2 6's, so it's probability is 1/36\n",
    "#Simply put, the sweet spot for 4 dice is between 12 to 16, with only one way to get 24. So for high numbers\n",
    "#A lower number will have a higher probility.\n",
    "#21 has multiple ways to get there so sum them up. 6663 group (4), 5556 (4), 6654 (12) = 20 ways\n",
    "#22 has 10 ways (6664)(4)(6655)(6)= 10\n",
    "#21 is twice as likely."
   ]
  },
  {
   "cell_type": "markdown",
   "metadata": {},
   "source": [
    "Problem 3b: 2 letter palandrome vs. 3 letter palandrome"
   ]
  },
  {
   "cell_type": "code",
   "execution_count": 32,
   "metadata": {
    "collapsed": true
   },
   "outputs": [],
   "source": [
    "#Same, both have same requirements of first and last letters needing to be equal or a 1/26th probability.b"
   ]
  },
  {
   "cell_type": "markdown",
   "metadata": {},
   "source": [
    "Problem 4: Resampling with replacement probability. What's probability if you take x from a group, return and take \n",
    "x again that k of the 2 groups are the same."
   ]
  },
  {
   "cell_type": "markdown",
   "metadata": {},
   "source": [
    "( n    (N - n  \n",
    "  k )   m - k )    \n",
    "  /  \n",
    "  (N  \n",
    "   m)  \n",
    "                  "
   ]
  },
  {
   "cell_type": "code",
   "execution_count": null,
   "metadata": {
    "collapsed": true
   },
   "outputs": [],
   "source": []
  },
  {
   "cell_type": "code",
   "execution_count": 33,
   "metadata": {
    "collapsed": true
   },
   "outputs": [],
   "source": [
    "#Random stuff playing with creating a distribution"
   ]
  },
  {
   "cell_type": "code",
   "execution_count": 34,
   "metadata": {
    "collapsed": false
   },
   "outputs": [],
   "source": [
    "#def roll_dice(n):\n",
    "#    return 1\n",
    "    \n",
    "def create_dist(iters=100):\n",
    "    res = []\n",
    "    [res.append(np.random.randint(6)+np.random.randint(6)) for _ in range(iters)]\n",
    "    return res"
   ]
  },
  {
   "cell_type": "code",
   "execution_count": 35,
   "metadata": {
    "collapsed": false
   },
   "outputs": [
    {
     "data": {
      "text/plain": [
       "10000"
      ]
     },
     "execution_count": 35,
     "metadata": {},
     "output_type": "execute_result"
    }
   ],
   "source": [
    "d1 = create_dist(10000)\n",
    "len(d1)"
   ]
  },
  {
   "cell_type": "code",
   "execution_count": 36,
   "metadata": {
    "collapsed": false
   },
   "outputs": [
    {
     "data": {
      "image/png": "[encoded data removed]",
      "text/plain": [
       "<matplotlib.figure.Figure at 0x11c0c54e0>"
      ]
     },
     "metadata": {},
     "output_type": "display_data"
    }
   ],
   "source": [
    "#mu, sigma = 100, 15\n",
    "#x = mu + sigma*np.random.randn(10000)\n",
    "\n",
    "# the histogram of the data\n",
    "#n, bins, patches = plt.hist(x, 50, normed=1, facecolor='green', alpha=0.75)\n",
    "plt.hist(d1)\n",
    "\n",
    "# add a 'best fit' line\n",
    "#y = mlab.normpdf( bins, mu, sigma)\n",
    "#l = plt.plot(bins, y, 'r--', linewidth=1)\n",
    "\n",
    "plt.xlabel('Score')\n",
    "plt.ylabel('Count')\n",
    "plt.title('Historgram of Dice')\n",
    "#plt.title(r'$\\mathrm{Histogram\\ of\\ IQ:}\\ \\mu=100,\\ \\sigma=15$')\n",
    "#plt.axis([40, 160, 0, 0.03])\n",
    "#plt.grid(True)\n",
    "\n",
    "plt.show()"
   ]
  },
  {
   "cell_type": "markdown",
   "metadata": {
    "collapsed": true
   },
   "source": [
    "Homework: Problem 1, 7 digit #s possible assuming first digit can't be 0 or 1"
   ]
  },
  {
   "cell_type": "code",
   "execution_count": 37,
   "metadata": {
    "collapsed": false
   },
   "outputs": [
    {
     "data": {
      "text/plain": [
       "8000000"
      ]
     },
     "execution_count": 37,
     "metadata": {},
     "output_type": "execute_result"
    }
   ],
   "source": [
    "a1 = 8*10**6\n",
    "a1"
   ]
  },
  {
   "cell_type": "markdown",
   "metadata": {},
   "source": [
    "Problem 2: Same as above but also can't use 911"
   ]
  },
  {
   "cell_type": "code",
   "execution_count": 38,
   "metadata": {
    "collapsed": false
   },
   "outputs": [
    {
     "data": {
      "text/plain": [
       "7990000"
      ]
     },
     "execution_count": 38,
     "metadata": {},
     "output_type": "execute_result"
    }
   ],
   "source": [
    "a2 = a1-10**4\n",
    "a2"
   ]
  },
  {
   "cell_type": "markdown",
   "metadata": {},
   "source": [
    "Problem 3: Chess. (a) How many possibilities for the games are there such that player A ends up with 3 wins, 2 draws and 2 losses? (b) How many possible outcomes for the games are there such that A ends with four points and B ends with 3 points. (c) Now, assume the first player to 4 points wins and no further matches are played. How many outcomes are there such that the match lasts 7 games and A wins with a score of 4 to 3?  \n",
    "Ans: https://math.stackexchange.com/questions/1285582/two-chess-players-a-and-b-are-going-to-play-7-games-there-are-three-possible"
   ]
  },
  {
   "cell_type": "markdown",
   "metadata": {},
   "source": [
    "Problem a"
   ]
  },
  {
   "cell_type": "code",
   "execution_count": 41,
   "metadata": {
    "collapsed": false
   },
   "outputs": [
    {
     "data": {
      "text/plain": [
       "210.0"
      ]
     },
     "execution_count": 41,
     "metadata": {},
     "output_type": "execute_result"
    }
   ],
   "source": [
    "comb(7,3)*comb(4,2)*comb(2,2)"
   ]
  },
  {
   "cell_type": "markdown",
   "metadata": {},
   "source": [
    "Problem b"
   ]
  },
  {
   "cell_type": "code",
   "execution_count": 64,
   "metadata": {
    "collapsed": false
   },
   "outputs": [
    {
     "data": {
      "text/plain": [
       "'\\n7!        7!           7!         7!\\n/      +   /       +    /      +   /\\n4!0!3#     3!2!2!      2!4!1!     1!6!0!\\n\\n= 35**10 + 7 = 357\\n\\n'"
      ]
     },
     "execution_count": 64,
     "metadata": {},
     "output_type": "execute_result"
    }
   ],
   "source": [
    "'''\n",
    "7!        7!           7!         7!\n",
    "/      +   /       +    /      +   /\n",
    "4!0!3#     3!2!2!      2!4!1!     1!6!0!\n",
    "\n",
    "= 35**10 + 7 = 357\n",
    "\n",
    "'''"
   ]
  },
  {
   "cell_type": "markdown",
   "metadata": {},
   "source": [
    "Problem c"
   ]
  },
  {
   "cell_type": "code",
   "execution_count": null,
   "metadata": {
    "collapsed": true
   },
   "outputs": [],
   "source": [
    "'''Probability of getting to game 6 with 3 and 3.5 points and then winning or tying game 7 respectively.\n",
    "6!        6!           6!         6!        6!      6!         6!\n",
    "/      +   /       +    /      +   /     +  /    +   /      +  /\n",
    "3!0!3#     3!2!2!      1!4!1!     0!6!0!   3!1!2!    2!3!1!   1!5!0!\n",
    "\n",
    "= 20+90+30+1+60+60+6 = 267\n",
    "Reason why this works is because game 7 has to fall into each of the other sets so no need to add anything more.\n",
    "'''"
   ]
  },
  {
   "cell_type": "markdown",
   "metadata": {},
   "source": [
    "3 people in an elevator, prob they pick 3 consecutive floors out of options 2-10 (9 options)"
   ]
  },
  {
   "cell_type": "code",
   "execution_count": 68,
   "metadata": {
    "collapsed": false
   },
   "outputs": [],
   "source": [
    "#What is total number of outcomes\n",
    "total_outcomes = 9**3\n"
   ]
  },
  {
   "cell_type": "code",
   "execution_count": 69,
   "metadata": {
    "collapsed": false
   },
   "outputs": [
    {
     "data": {
      "text/plain": [
       "42"
      ]
     },
     "execution_count": 69,
     "metadata": {},
     "output_type": "execute_result"
    }
   ],
   "source": [
    "#there are 7 ways to get three consecutive numbers out of 2-10 => (234), (345), (456), (567), (678), (789), (8910) \n",
    "#and 3! ways to shoose from three numbers \n",
    "ways_prob = 7*math.factorial(3)\n",
    "ways_prob"
   ]
  },
  {
   "cell_type": "code",
   "execution_count": 72,
   "metadata": {
    "collapsed": false
   },
   "outputs": [
    {
     "data": {
      "text/plain": [
       "0.05761316872427984"
      ]
     },
     "execution_count": 72,
     "metadata": {},
     "output_type": "execute_result"
    }
   ],
   "source": [
    "ans =  ways_prob/total_outcomes\n",
    "ans"
   ]
  },
  {
   "cell_type": "code",
   "execution_count": 59,
   "metadata": {
    "collapsed": false
   },
   "outputs": [
    {
     "data": {
      "text/plain": [
       "252.0"
      ]
     },
     "execution_count": 59,
     "metadata": {},
     "output_type": "execute_result"
    }
   ],
   "source": [
    "comb(10,5)"
   ]
  },
  {
   "cell_type": "code",
   "execution_count": 60,
   "metadata": {
    "collapsed": false
   },
   "outputs": [
    {
     "data": {
      "text/plain": [
       "210.0"
      ]
     },
     "execution_count": 60,
     "metadata": {},
     "output_type": "execute_result"
    }
   ],
   "source": [
    "comb(10,6)"
   ]
  },
  {
   "cell_type": "code",
   "execution_count": 61,
   "metadata": {
    "collapsed": false
   },
   "outputs": [
    {
     "data": {
      "text/plain": [
       "126.0"
      ]
     },
     "execution_count": 61,
     "metadata": {},
     "output_type": "execute_result"
    }
   ],
   "source": [
    "comb(10,5)/2"
   ]
  },
  {
   "cell_type": "code",
   "execution_count": 62,
   "metadata": {
    "collapsed": false
   },
   "outputs": [
    {
     "data": {
      "text/plain": [
       "210.0"
      ]
     },
     "execution_count": 62,
     "metadata": {},
     "output_type": "execute_result"
    }
   ],
   "source": [
    "comb(10,6)"
   ]
  },
  {
   "cell_type": "markdown",
   "metadata": {
    "collapsed": true
   },
   "source": [
    "## Harvard chapter 2"
   ]
  },
  {
   "cell_type": "markdown",
   "metadata": {},
   "source": [
    "P(B)P(A|B)= P(A)P(B|A)  \n",
    "P(A|B) = P(A)P(B|A)/P(B)\n",
    "P(B|A) = P(B)P(A|B)/P(A)\n",
    "\n",
    "P(A) = 1/4  \n",
    "P(B) = 1/2  \n",
    "P(B|A) = card's already picked, so 51 cards and 25 red cards\n",
    "P(A|B) = 1 red card is picked, 25/51"
   ]
  },
  {
   "cell_type": "code",
   "execution_count": 77,
   "metadata": {
    "collapsed": false
   },
   "outputs": [
    {
     "data": {
      "text/plain": [
       "0.24509803921568626"
      ]
     },
     "execution_count": 77,
     "metadata": {},
     "output_type": "execute_result"
    }
   ],
   "source": [
    "#P(A|B)\n",
    "(1/4)*(25/51)/(1/2)"
   ]
  },
  {
   "cell_type": "code",
   "execution_count": 78,
   "metadata": {
    "collapsed": false
   },
   "outputs": [
    {
     "data": {
      "text/plain": [
       "0.24509803921568626"
      ]
     },
     "execution_count": 78,
     "metadata": {},
     "output_type": "execute_result"
    }
   ],
   "source": [
    "25/102"
   ]
  },
  {
   "cell_type": "code",
   "execution_count": 80,
   "metadata": {
    "collapsed": true
   },
   "outputs": [],
   "source": [
    "#P(B|A)"
   ]
  },
  {
   "cell_type": "markdown",
   "metadata": {},
   "source": [
    "You have one fair coin, and one biased coin which lands Heads with probability 3/4. You pick one of the coins at random and flip it three times. It lands Heads all three times. Given this information, what is the probability that the coin you picked is the fair one?\n",
    "\n"
   ]
  },
  {
   "cell_type": "markdown",
   "metadata": {},
   "source": [
    "A = 1/2  \n",
    "B = 3/4  \n",
    "C = 3 heads  \n",
    "D = Pick a or b at random = 1/2 = prob of picking a fair coin  \n",
    "Given several heads in a row it should be less than 1/2 likely that you picked the fair coin.  \n",
    "\n",
    "Answer is p(D|C)\n",
    "P(C)= 3/4^3*1/2 + 1/2^3*1/2\n",
    "P(C|D) = 1/2^3\n",
    "P(D|C)= P(D)P(C|D)/P(C)\n",
    "P(A&C) = P(A)P(C|A) = P(C)P(A|C)"
   ]
  },
  {
   "cell_type": "code",
   "execution_count": 94,
   "metadata": {
    "collapsed": false
   },
   "outputs": [],
   "source": [
    "pc = ((.75**3)*1/2)+(1/16)\n",
    "pcd = 1/8\n",
    "pd=1/2"
   ]
  },
  {
   "cell_type": "code",
   "execution_count": 95,
   "metadata": {
    "collapsed": false
   },
   "outputs": [
    {
     "data": {
      "text/plain": [
       "0.22857142857142856"
      ]
     },
     "execution_count": 95,
     "metadata": {},
     "output_type": "execute_result"
    }
   ],
   "source": [
    "pd*pcd/pc"
   ]
  },
  {
   "cell_type": "markdown",
   "metadata": {},
   "source": [
    "Jimmy is being tested for a disease called conditionitis, a medical condition that afflicts 1% of the population. The test result is positive, i.e., the test claims that Jimmy has the disease. Let D be the event that Jimmy has the disease and T be the event that he tests positive.  \n",
    "\n",
    "p(T|D) = .95\n",
    "conditionitis affects .1 of people.  \n",
    "\n",
    "\n",
    "Suppose that the test is ''95% accurate\"; there are different measures of the accuracy of a test, but in this problem it is assumed to mean that  and . The quantity  is known as the sensitivity or true positive rate of the test, and  is known as the specificity or true negative rate.  \n",
    "\n",
    "Find the conditional probability that Jimmy has conditionitis, given the evidence provided by the test result  \n",
    "p(T|D)  \n",
    "p(D) = .01  \n",
    "p(T&D) = p(D)p(T|D) = p(T)p(D|T)  \n",
    "p(D|T) = P(D)P(T|D)/p(T)  \n",
    "= .01 *.95/p(T)\n",
    "= .01 *.95/p(D)p(T|D)+p(Dc)p(Tc|Dc)  \n",
    "= .01 *.91/.01*.95 + .99*.05  "
   ]
  },
  {
   "cell_type": "code",
   "execution_count": 100,
   "metadata": {
    "collapsed": true
   },
   "outputs": [],
   "source": [
    "def total_prob_symetrical(a,conditional_a):\n",
    "    return (a*conditional_a)+((1-a)*(1-conditional_a))"
   ]
  },
  {
   "cell_type": "code",
   "execution_count": 101,
   "metadata": {
    "collapsed": false
   },
   "outputs": [
    {
     "data": {
      "text/plain": [
       "0.16101694915254225"
      ]
     },
     "execution_count": 101,
     "metadata": {},
     "output_type": "execute_result"
    }
   ],
   "source": [
    "(.01*.95)/total_prob_symetrical(.01,.95)"
   ]
  },
  {
   "cell_type": "markdown",
   "metadata": {},
   "source": [
    "## chapter 2 practice problems"
   ]
  },
  {
   "cell_type": "markdown",
   "metadata": {},
   "source": [
    "A spam filter is designed by looking at commonly occurring phrases in spam. Suppose that 80% of email is spam. In 10% of the spam emails, the phrase \"free money\" is used, whereas this phrase is only used in 1% of non-spam emails. A new email has just arrived, which does mention \"free money\". What is the probability that it is spam?\n",
    "\n"
   ]
  },
  {
   "cell_type": "markdown",
   "metadata": {},
   "source": [
    "Seeking prob of spam given mention of free money = p(S|F)  \n",
    "p(S) = .8  \n",
    "p(F|S) = .1  \n",
    "p(F|Sc) = .01  \n",
    "Bayes theorum p(S|F) = p(S)p(F|S)/p(F) = top / total prob of F = top/ p(S)*p(F|S)+p(Sc)*p(F|Sc)  \n",
    "= top/.8*.1+.2*.01  \n",
    "= .8*.1/bottom"
   ]
  },
  {
   "cell_type": "code",
   "execution_count": 103,
   "metadata": {
    "collapsed": false
   },
   "outputs": [
    {
     "data": {
      "text/plain": [
       "0.975609756097561"
      ]
     },
     "execution_count": 103,
     "metadata": {},
     "output_type": "execute_result"
    }
   ],
   "source": [
    ".8*.1/(.8*.1+.2*.01)"
   ]
  },
  {
   "cell_type": "markdown",
   "metadata": {},
   "source": [
    "The screens used for a certain type of cell phone are manufactured by 3 companies, A, B, and C. The proportions of screens supplied by A, B, and C are 0.5, 0.3, and 0.2, respectively, and their screens are defective with probabilities 0.01, 0.02, and 0.03, respectively.  \n",
    "\n",
    "Given that the screen on such a phone is defective, what is the probability that Company A manufactured it?  \n",
    "We seek - p(A|Defective/D)  \n",
    "\n",
    "Bayes theorum p(A|D) = p(A)*p(D|A)/P(D)  \n",
    "p(D|A) = .01\n",
    "p(D) = .5*.01+.3*.02+.2*.03\n",
    "\n",
    "\n",
    "\n",
    "\n"
   ]
  },
  {
   "cell_type": "code",
   "execution_count": 104,
   "metadata": {
    "collapsed": false
   },
   "outputs": [
    {
     "data": {
      "text/plain": [
       "0.29411764705882354"
      ]
     },
     "execution_count": 104,
     "metadata": {},
     "output_type": "execute_result"
    }
   ],
   "source": [
    "(.5*.01)/(.5*.01+.3*.02+.2*.03)"
   ]
  },
  {
   "cell_type": "markdown",
   "metadata": {},
   "source": [
    "Family has 3 kids named A,B,C  \n",
    "Find the probability that A is older than B, given that A is older than C.  \n",
    "Ab = prob A is older than B    \n",
    "Ac = prob A older than C  \n",
    "\n",
    "1/3rd chance either child is older. \n",
    "P(A>B|A>C) = P(A&B)/P(A>C)  \n",
    "P(A&B) = 1/3\n",
    "P(A>C) = 1/2\n",
    ".3333/.5\n"
   ]
  },
  {
   "cell_type": "code",
   "execution_count": 105,
   "metadata": {
    "collapsed": false
   },
   "outputs": [
    {
     "data": {
      "text/plain": [
       "0.6666"
      ]
     },
     "execution_count": 105,
     "metadata": {},
     "output_type": "execute_result"
    }
   ],
   "source": [
    ".3333/.5"
   ]
  },
  {
   "cell_type": "markdown",
   "metadata": {},
   "source": [
    "Consider the Monty Hall problem, except that Monty enjoys opening door 2 more than he enjoys opening door 3, and if he has a choice between opening these two doors, he opens door 2 with probability p=3/4  \n",
    "Ax = car is behind x door  \n",
    "Mx = Monty opens x door  \n",
    "P(Ac|Mb)=P(Ac)P(Mb|Ac)/totalprob(Mb)=  P(Ac)P(Mb|Ac)/P(Ac)*P(Mb|Ac)+P(Bc)(Mb|Bc)+P(Cc)*(Mb|Cc)\n",
    "=(1/3*1)/(1/3*.75+1/3*0+1/3*.75)"
   ]
  },
  {
   "cell_type": "code",
   "execution_count": 112,
   "metadata": {
    "collapsed": false
   },
   "outputs": [
    {
     "data": {
      "text/plain": [
       "0.6666666666666666"
      ]
     },
     "execution_count": 112,
     "metadata": {},
     "output_type": "execute_result"
    }
   ],
   "source": [
    "(1*1/3)/(.0*1/3+1*1/3+1*1/3)"
   ]
  },
  {
   "cell_type": "code",
   "execution_count": 114,
   "metadata": {
    "collapsed": false
   },
   "outputs": [
    {
     "data": {
      "text/plain": [
       "0.5714285714285715"
      ]
     },
     "execution_count": 114,
     "metadata": {},
     "output_type": "execute_result"
    }
   ],
   "source": [
    "(1/3*1)/(1/3*.75+1/3*0+1/3*1)"
   ]
  },
  {
   "cell_type": "markdown",
   "metadata": {},
   "source": [
    "(c) Find the probability that the strategy of always switching succeeds, given that Monty opens door 3.  \n",
    "SS = switching wins\n",
    "P(Bc|Mc) = P(Bc)P(Mc|Bc)/P(Ac)P(Mc|Ac)+P(Bc)P(Mc|Bc)+P(Cc)P(Mc|Cc)  \n",
    "= (1/3*1)/(1/3*.25+1/3*1+1/3*0)\n"
   ]
  },
  {
   "cell_type": "code",
   "execution_count": 116,
   "metadata": {
    "collapsed": false
   },
   "outputs": [
    {
     "data": {
      "text/plain": [
       "0.8"
      ]
     },
     "execution_count": 116,
     "metadata": {},
     "output_type": "execute_result"
    }
   ],
   "source": [
    "(1/3*1)/(1/3*.25+1/3*1+1/3*0)\n"
   ]
  },
  {
   "cell_type": "markdown",
   "metadata": {},
   "source": [
    "Fred is answering a multiple-choice problem on an exam, and has to choose one of n options (exactly one of which is correct). Let K be the event that he knows the answer, and R be the event that he gets the problem right (either through knowledge or through luck). Suppose that if he knows the right answer he will definitely get the problem right, but if he does not know then he will guess completely randomly. Let P(K)=p  \n",
    "\n",
    "P(R|K)=1  \n",
    "P(R|Knot)=n  \n",
    "P(K|R) = P(K)P(R|K)/P(R)  \n",
    "Typically P(R) = P(K)P(R|K)+ P(Knot)P(R|Knot) = p*1+(1-p)*(1/n)  \n",
    "=p/p+(1-p)/n\n"
   ]
  },
  {
   "cell_type": "markdown",
   "metadata": {},
   "source": [
    "A hat contains 100 coins, where 99 are fair but one is double-headed (always landing Heads). A coin is chosen uniformly at random. The chosen coin is flipped 7 times, and it lands Heads all 7 times. Given this information, what is the probability that the chosen coin is double-headed? (Of course, another approach here would be to look at both sides of the coin—but this is a metaphorical coin.)  \n",
    "\n",
    "P(Fnot)=.01  \n",
    "P(7H|Fnot)=1  \n",
    "\n",
    "P(Fnot|7H) = P(Fnot)*P(7H|Fnot)/P(7H)  \n",
    "= .01*1/.01*1+.99*1/2^7"
   ]
  },
  {
   "cell_type": "code",
   "execution_count": 117,
   "metadata": {
    "collapsed": false
   },
   "outputs": [
    {
     "data": {
      "text/plain": [
       "0.5638766519823789"
      ]
     },
     "execution_count": 117,
     "metadata": {},
     "output_type": "execute_result"
    }
   ],
   "source": [
    ".01/(.01+.99*(.5**7))"
   ]
  },
  {
   "cell_type": "markdown",
   "metadata": {},
   "source": [
    "Jimmy's sad test situation  \n",
    "\n",
    "Jimmy decides to take a series of n tests, to diagnose whether he has a certain disease (any individual test is not perfectly reliable, so he hopes to reduce his uncertainty by taking multiple tests). Let D be the event that he has the disease, p=P(D) be the prior probability that he has the disease, and q=1-p. Let Tj be the event that he tests positive on the jth test.  \n",
    "\n",
    "(a) Assume for this part that the test results are conditionally independent given Jimmy’s disease status. Let a=P(Tj|D)  and b = P(Tj|Dnot) , where a and b don’t depend on j. Find the posterior probability that Jimmy has the disease, given that he tests positive on exactly k out of the n tests.\n",
    "\n",
    "Tj = jth test Jimmy takes is positive  \n",
    "k = of n tests, k are positive  \n",
    "D = Jimmy has disease  \n",
    "a = P(Tj|D)  \n",
    "b = P(Tj|Dnot)  \n",
    "p = P(D)\n",
    "P(D|Tj)=p*P(Tj*k|D)/p(Tj)\n",
    "P(Tj) = P(D)*P(Tj|D)+P(Dnot)*P(Tj|Dnot)\n",
    "P(Tj) = p * P(Tj|D) + q * P(Tj|Dnot)\n"
   ]
  },
  {
   "cell_type": "code",
   "execution_count": null,
   "metadata": {
    "collapsed": true
   },
   "outputs": [],
   "source": []
  }
 ],
 "metadata": {
  "anaconda-cloud": {},
  "kernelspec": {
   "display_name": "Python [conda env:py3]",
   "language": "python",
   "name": "conda-env-py3-py"
  },
  "language_info": {
   "codemirror_mode": {
    "name": "ipython",
    "version": 3
   },
   "file_extension": ".py",
   "mimetype": "text/x-python",
   "name": "python",
   "nbconvert_exporter": "python",
   "pygments_lexer": "ipython3",
   "version": "3.5.2"
  }
 },
 "nbformat": 4,
 "nbformat_minor": 1
}
