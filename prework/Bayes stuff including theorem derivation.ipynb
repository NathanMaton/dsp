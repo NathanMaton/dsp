{
 "cells": [
  {
   "cell_type": "markdown",
   "metadata": {},
   "source": [
    "Derriving Bayes Theorum (rehashing things from Think Bayes)\n",
    "\n",
    "We commonly make a mistake to not think about independence or dependence of variables.  One reason why is we learn about probability with simple coins that are independent.\n",
    "\n",
    "For coins/independent variables P(A and B) = P(A)*P(B)\n",
    "\n",
    "Not all things are independent. For dependent variables conjoint probability is   \n",
    "P(A and B) = P(A)P(B|A)\n",
    "\n",
    "These are commutative, meaning P(A and B) = P(B and A) Allen Downing writes in his book Think Bayes.  \n",
    "\n",
    "To now derrive Bayes Theorum we can use this commutative property + some algebra.  \n",
    "p(B) p(A|B) = p(A) p(B|A) \n",
    "\n",
    "Then divide by p(B)  \n",
    "p(A|B) = p(A) p(B|A)/p(B)\n",
    "\n",
    "Boom! To rederrive this formula all you need to remember is that:\n",
    "- For dependent variables P(A and B) = P(A)P(B|A)\n",
    "- This is commutative P(A and B) = P(B and A) OR P(A) P(B|A) = P(B) P(A|B)\n",
    "- Do one piece of division and you'll have the theorum. Double boom!\n"
   ]
  },
  {
   "cell_type": "markdown",
   "metadata": {},
   "source": [
    "## q 5 from stats\n",
    "\n",
    "Elvis Presley had a twin brother who died at birth.  What is the probability that Elvis was an identical twin? \n",
    "Assume we observe the following probabilities in the population: fraternal twin is 1/125 and identical twin is 1/300."
   ]
  },
  {
   "cell_type": "markdown",
   "metadata": {},
   "source": [
    "To think this through let's assign a few things.  \n",
    "\n",
    "it = identical twin\n",
    "ft = fratneral twin\n",
    "We're given  \n",
    "p(it) = 1/300  \n",
    "p(ft) = 1/125\n",
    "\n",
    "The trick is to realize the problem tells us his twin was a twin brother. Then you need to know that fraternal twins can be either gender, identical twins have to be same gender. This gives us:  \n",
    "twin boy = Elvis had a twin male brother (which is data that is given to us)\n",
    "\n",
    "p(twin boy|it) = .5  \n",
    "p(twin boy|ft) = .25\n",
    "p(twin boy) = p(twin boy|it) + p(twin boy|ft)\n",
    "\n",
    "I struggled a bit to get to what's below, then realized if I let go of Elvis the definitions become easier once you realize you have the boy info in the problem description.  \n",
    "\n",
    "p(it|twin boy) = p(it) * p(twin boy|it) / p(twin boy)\n",
    "= 1/300 * .5 / (1/300 * .5 + 1/124 *.25"
   ]
  },
  {
   "cell_type": "code",
   "execution_count": 10,
   "metadata": {
    "collapsed": false
   },
   "outputs": [
    {
     "data": {
      "text/plain": [
       "0.45454545454545453"
      ]
     },
     "execution_count": 10,
     "metadata": {},
     "output_type": "execute_result"
    }
   ],
   "source": [
    "(1/300*.5)/(1/125*.25+1/300*.5)\n"
   ]
  },
  {
   "cell_type": "code",
   "execution_count": 23,
   "metadata": {
    "collapsed": false
   },
   "outputs": [
    {
     "data": {
      "text/plain": [
       "0.5882352941176471"
      ]
     },
     "execution_count": 23,
     "metadata": {},
     "output_type": "execute_result"
    }
   ],
   "source": [
    "'''more notes from Think Bayes\n",
    "\n",
    "In 1995, they introduced blue M&M’s. Before then, the color mix in a bag of plain M&M’s was 30% Brown, \n",
    "20% Yellow, 20% Red, 10% Green, 10% Orange, 10% Tan. \n",
    "Afterward it was 24% Blue , 20% Green, 16% Orange, 14% Yellow, 13% Red, 13% Brown.\n",
    "\n",
    "\n",
    "m&M problem\n",
    "b1 = bag from 1994\n",
    "b2 = bag from 1996 (contains blue)\n",
    "y = yellow m&m\n",
    "p(b1|y)=p(b1)p(y|b1) / p(y)\n",
    "p(b1)=.5\n",
    "p(y|b1)= .2\n",
    "p(y|b2)= .14\n",
    "p(y) = p(y|b1)+p(y|b2) = .2 + .14\n",
    "p(b1|y) = .5 * .2 / (.34)'''\n",
    "firstans = .5*.2/.34\n",
    "'''answer feels wrong, feels like it should be above 50 since yellow was more common pre blue.\n",
    "allen says p(y) should equal\n",
    "p(y) = p(b1) * p(y|b1) + p(b2) * p(y|b2)\n",
    "This includes multiplying the conditional probability by the probability of one bag being picked which they are both \n",
    "picked once so each one has .5 chance in this problem.\n",
    "Therefore it should be .2*.5 + .14*.5 or (.2+.14)/.5 or .34*2\n",
    "\n",
    "'''\n",
    "py = (.2*.5)+(.14*.5)\n",
    "(.5*.2)/py"
   ]
  },
  {
   "cell_type": "markdown",
   "metadata": {},
   "source": [
    "## q 6 stuff\n"
   ]
  },
  {
   "cell_type": "markdown",
   "metadata": {},
   "source": [
    "few good articles:   \n",
    "https://stats.stackexchange.com/questions/22/bayesian-and-frequentist-reasoning-in-plain-english  \n",
    "https://www.behind-the-enemy-lines.com/2008/01/are-you-bayesian-or-frequentist-or.html"
   ]
  },
  {
   "cell_type": "code",
   "execution_count": null,
   "metadata": {
    "collapsed": true
   },
   "outputs": [],
   "source": []
  }
 ],
 "metadata": {
  "anaconda-cloud": {},
  "kernelspec": {
   "display_name": "Python [conda env:py3]",
   "language": "python",
   "name": "conda-env-py3-py"
  },
  "language_info": {
   "codemirror_mode": {
    "name": "ipython",
    "version": 3
   },
   "file_extension": ".py",
   "mimetype": "text/x-python",
   "name": "python",
   "nbconvert_exporter": "python",
   "pygments_lexer": "ipython3",
   "version": "3.5.2"
  }
 },
 "nbformat": 4,
 "nbformat_minor": 1
}
